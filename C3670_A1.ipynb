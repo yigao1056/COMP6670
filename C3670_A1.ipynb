{
 "cells": [
  {
   "cell_type": "markdown",
   "metadata": {},
   "source": [
    "**COMP3670/6670 Introduction to Machine Learning** -- **Assignment 1**"
   ]
  },
  {
   "cell_type": "markdown",
   "metadata": {},
   "source": [
    "**Deadline:** 23:59pm, August 11th, 2019\n",
    "\n",
    "**Submit:** Write your answers in this file, and submit a single Jupyter Notebook file (.ipynb) on Wattle."
   ]
  },
  {
   "cell_type": "markdown",
   "metadata": {},
   "source": [
    "**Therom: 50%**\n",
    "\n",
    "**Programming: 50%**"
   ]
  },
  {
   "cell_type": "markdown",
   "metadata": {},
   "source": [
    "**Enter Your Student ID:u7016951**\n",
    "\n",
    "**Name:Yi Gao**"
   ]
  },
  {
   "cell_type": "markdown",
   "metadata": {},
   "source": [
    "As mentioned in course introduction, you are required to list all the students you discussed with for the assignment.\n",
    "\n",
    "**The next cell** is for you to write down all of them using their University IDs.\n",
    "\n",
    "Three examples for formatting is:\n",
    "\n",
    "u1234567.\n",
    "\n",
    "u1234567, u1234568.\n",
    "\n",
    "u1234567, u1234568, u1234569."
   ]
  },
  {
   "cell_type": "markdown",
   "metadata": {},
   "source": [
    "u1234567, u1234568. (Replace this line with the IDs you discussed with during the assignment)"
   ]
  },
  {
   "cell_type": "markdown",
   "metadata": {},
   "source": [
    "# Therom"
   ]
  },
  {
   "cell_type": "markdown",
   "metadata": {},
   "source": [
    "Questions below are taken from \n",
    "the textbook *Mathematics for Machine Learning*,\n",
    "https://mml-book.github.io/book/mml-book.pdf\n",
    "\n",
    "Answer the below questions from the textbook.\n",
    "\n",
    "- **2.4**  (a), (d) only\n",
    "- **2.8**\n",
    "- **2.9**\n",
    "- **2.10**\n",
    "- **2.11**\n",
    "- **2.13**\n",
    "- **2.16**  (b), (c), (d), (e) only\n",
    "- **Q1** (not from the textbook) Find the set $\\it{S}$ of all solutions $\\bf{x}$ of the following inhomogeneous linear systems $\\bf{Ax=b}$, where\n",
    "$\\bf{A}$ and $\\bf{b}$ are defined as follows:\n",
    "\n",
    "**a)**\n",
    "$$\\textbf{A} = \n",
    "\\begin{bmatrix}\n",
    "    3 & -1 & 11\\\\\n",
    "    2 &  1 &  4\\\\\n",
    "    1 &  0 &  3\n",
    "\\end{bmatrix}\n",
    ", \\quad \\textbf{b} = \n",
    "\\begin{bmatrix}\n",
    "    10\\\\\n",
    "     2\\\\\n",
    "     6\n",
    "\\end{bmatrix}\n",
    "$$\n",
    "\n",
    "**b)**\n",
    "$$\\textbf{A} = \n",
    "\\begin{bmatrix}\n",
    "     2 &  -4 & 13\\\\\n",
    "    -1 &   1 &  9\\\\\n",
    "     3 & -10 & -9\n",
    "\\end{bmatrix}\n",
    ", \\quad \\textbf{b} = \n",
    "\\begin{bmatrix}\n",
    "    -55\\\\\n",
    "     41\\\\\n",
    "    -26\n",
    "\\end{bmatrix}\n",
    "$$\n",
    "\n",
    "**c)**\n",
    "$$\\textbf{A} = \n",
    "\\begin{bmatrix}\n",
    "    1 & -1 & 1\\\\\n",
    "    1 & -3 & 1\\\\\n",
    "    2 &  1 & 2\n",
    "\\end{bmatrix}\n",
    ", \\quad \\textbf{b} = \n",
    "\\begin{bmatrix}\n",
    "    11\\\\\n",
    "    19\\\\\n",
    "    10\n",
    "\\end{bmatrix}\n",
    "$$"
   ]
  },
  {
   "cell_type": "markdown",
   "metadata": {},
   "source": [
    "### <span style=\"color:blue\">Answers</span>\n",
    "<i>\n",
    "   \n",
    "2.4(a)\n",
    "$$\\left[\\begin{array} {cccc}\n",
    "1&4&7\\\\\n",
    "2&5&8\\\\\n",
    "\\end{array}\\right]\n",
    "\\left[ \\begin{array} {cccc}\n",
    "1&1&0\\\\\n",
    "0&1&1\\\\\n",
    "1&0&1\\\\\n",
    "\\end{array} \\right]=\n",
    "\\left[ \\begin{array} {cccc}\n",
    "8&5&11\\\\\n",
    "10&7&13\\\\\n",
    "\\end{array} \\right]$$ \n",
    "\n",
    "2.4(d)\n",
    "$$\\left[\\begin{array} {cccc}\n",
    "1&2&1&2\\\\\n",
    "4&1&-1&4\\\\\n",
    "\\end{array}\\right]\n",
    "\\left[ \\begin{array} {cccc}\n",
    "0&3\\\\\n",
    "1&-1\\\\\n",
    "2&1\\\\\n",
    "5&2\\\\\n",
    "\\end{array} \\right]=\n",
    "\\left[ \\begin{array} {cccc}\n",
    "14&2\\\\\n",
    "-21&2\\\\\n",
    "\\end{array} \\right]$$ \n",
    "\n",
    "2.8 Determine the inverses of the following matrices if possible:\n",
    "\n",
    "$a.$\n",
    "$$A=\n",
    "\\left[ \\begin{array} {cccc}\n",
    "2&3&4\\\\\n",
    "3&4&5\\\\\n",
    "4&5&6\\\\\n",
    "\\end{array} \\right]$$\n",
    "\n",
    "Answer:No\n",
    "\n",
    "\n",
    "\n",
    "$b.$\n",
    "$$A=\n",
    "\\left[ \\begin{array} {cccc}\n",
    "1&0&1&0\\\\\n",
    "0&1&1&0\\\\\n",
    "1&1&0&1\\\\\n",
    "1&1&1&0\n",
    "\\end{array} \\right]$$\n",
    "\n",
    "Answer:Yes\n",
    "$$A^{-1}=\n",
    "\\left[ \\begin{array} {cccc}\n",
    "0&1&0&1\\\\\n",
    "-1&0&0&1\\\\\n",
    "1&1&0&-1\\\\\n",
    "1&1&1&-2\n",
    "\\end{array} \\right]$$\n",
    "\n",
    "2.9 a,b,c,d\n",
    "\n",
    "2.10 \n",
    "a.\n",
    "\n",
    "$Because$\n",
    "$$\\left[ \\begin{array} {cccc}\n",
    "2&1&3\\\\\n",
    "-1&1&-3\\\\\n",
    "3&-2&8\n",
    "\\end{array} \\right]=\n",
    "\\left[ \\begin{array} {cccc}\n",
    "1&0&2\\\\\n",
    "0&1&-1\\\\\n",
    "0&0&0\n",
    "\\end{array} \\right]\n",
    "$$\n",
    "\n",
    "So $x_1,x_2,x_3$ is linear dependent\n",
    "\n",
    "b. \n",
    "\n",
    "$Because$\n",
    "$$\\left[ \\begin{array} {cccc}\n",
    "1&1&1\\\\\n",
    "2&1&0\\\\\n",
    "1&0&0\\\\\n",
    "0&1&1\\\\\n",
    "0&1&1\n",
    "\\end{array} \\right]=\n",
    "\\left[ \\begin{array} {cccc}\n",
    "1&0&0\\\\\n",
    "0&1&0\\\\\n",
    "0&0&1\\\\\n",
    "0&0&0\\\\\n",
    "0&0&0\n",
    "\\end{array} \\right]\n",
    "$$\n",
    "\n",
    "So $x_1,x_2,x_3$ is linear independent\n",
    "\n",
    "\n",
    "\n",
    "2.11\n",
    "\n",
    "2.13\n",
    "\n",
    "\n",
    "\n",
    "</i>\n",
    "    "
   ]
  },
  {
   "cell_type": "markdown",
   "metadata": {},
   "source": [
    "# Coding"
   ]
  },
  {
   "cell_type": "markdown",
   "metadata": {},
   "source": [
    "**INTRO:**\n",
    "---\n",
    "\n",
    "**NOTE:** *This part of the first assignment is by necessity somewhat tedious as its primary purpose is to introduce syntax, how to access and understand the Numpy documentation and some very basic concepts. If you are already familiar with Numpy, you can just read the **TASK** headings and complete the questions without worrying about all the additional information. This is designed for people who have never seen Numpy before, so it's a very easy 1st year style introduction to just introduce syntax.*\n",
    "\n",
    "*As this is a third year subject, it is assumed you already know to to program well (but may be unfamiliar with Python and Numpy).*\n",
    "\n",
    "---\n",
    "\n",
    "Arguably the most fundamental tool needed to engage with machine learning in Python is Numpy *(np)*. To include Numpy in any project, simply type the following line at the top of your python file:"
   ]
  },
  {
   "cell_type": "markdown",
   "metadata": {},
   "source": [
    "**Marking distribution for the homework/assignment**\n",
    "\n",
    "EX1 = 5%\n",
    "\n",
    "EX2 = 10%\n",
    "\n",
    "EX3 = 10%\n",
    "\n",
    "EX4 = 75%"
   ]
  },
  {
   "cell_type": "code",
   "execution_count": 1,
   "metadata": {},
   "outputs": [
    {
     "name": "stdout",
     "output_type": "stream",
     "text": [
      "Done\n"
     ]
    }
   ],
   "source": [
    "import numpy as np\n",
    "\n",
    "print('Done')"
   ]
  },
  {
   "cell_type": "markdown",
   "metadata": {},
   "source": [
    "A Jupyter Notebook is divided into cells, each of which works like a Python module or Latex file. When a cell is run, any cells that follow it will have access to its results. Running the above cell will give all following cells access to the Numpy library.\n",
    "\n",
    "-----------\n",
    "\n",
    "   **TASK 0.1:** To run the above cell, select it by clicking on it, hold **shift** and press **return**. If you have succeeded, then the cell will print \"Done\" just above.\n",
    "\n",
    "\n",
    "-----------\n",
    "\n",
    "Numpy is a library of common mathematical data structures and algorithms used in machine learning. For example:\n",
    "\n",
    "- It allows you to declare vectors and matrices, with all the associated mathematical operations like matrix vector products, matrix addition / subtraction.\n",
    "- It provides convenient, efficient implementations of algorithms to solve matrix equations, find the inverse of a matrix or perform Eigen decomposition. The implementation of these algorithms is compiled from C code, making Numpy much faster than programming these algorithms yourself in Python.\n",
    "\n",
    "You'll need to know Numpy inside and out. We'll start by getting you familiar with the easy to access online documentation and performing a few basic operations.\n",
    "\n",
    "Below I have declared the matrices: \n",
    "\n",
    "$$A = \n",
    "\\begin{bmatrix}\n",
    "2&3\\\\\n",
    "0&1\\\\\n",
    "\\end{bmatrix}\n",
    "\\\\\n",
    "x = \n",
    "\\begin{bmatrix}\n",
    "1\\\\\n",
    "3\\\\\n",
    "\\end{bmatrix}\n",
    "$$. \n",
    "\n",
    "---\n",
    "**TASK 0.2:** Run the cell below and observe what it prints.\n",
    "\n",
    "\n",
    "---\n",
    "(If it throws an error, you have the wrong version of python installed. This entire course will use Python 3, not Python 2)\n",
    "\n"
   ]
  },
  {
   "cell_type": "code",
   "execution_count": 2,
   "metadata": {},
   "outputs": [
    {
     "name": "stdout",
     "output_type": "stream",
     "text": [
      "\n",
      "Matrix Multiplication\n",
      "[[11]\n",
      " [ 3]]\n"
     ]
    }
   ],
   "source": [
    "A = np.array([[2, 3], [0, 1]])\n",
    "x = np.array([[1], [3]])\n",
    "\n",
    "#Matrix Multiplication Example\n",
    "b = A @ x\n",
    "print('\\nMatrix Multiplication')\n",
    "print(b)"
   ]
  },
  {
   "cell_type": "markdown",
   "metadata": {},
   "source": [
    "The above code illustrates how to perform matrix multiplication. Memorise it. Below are some other basic operations you'll likely need over the coming semester:"
   ]
  },
  {
   "cell_type": "code",
   "execution_count": 3,
   "metadata": {},
   "outputs": [
    {
     "name": "stdout",
     "output_type": "stream",
     "text": [
      "\n",
      "Matrix Addition\n",
      "[[3 4]\n",
      " [3 4]]\n",
      "\n",
      "Elementwise Matrix Multiplication\n",
      "[[2 3]\n",
      " [0 3]]\n",
      "\n",
      "Single Element Extraction\n",
      "2\n",
      "\n",
      "Column Extraction\n",
      "[2 0]\n",
      "\n",
      "Row Extraction\n",
      "[2 3]\n",
      "\n",
      "Transpose\n",
      "[[2 0]\n",
      " [3 1]]\n"
     ]
    }
   ],
   "source": [
    "#Matrix Addition Example\n",
    "b = A + x\n",
    "print('\\nMatrix Addition')\n",
    "print(b)\n",
    "\n",
    "#Elementwise Multiplication Example\n",
    "b = A * x\n",
    "print('\\nElementwise Matrix Multiplication')\n",
    "print(b)\n",
    "\n",
    "#Extract a single element of a matrix:\n",
    "print('\\nSingle Element Extraction')\n",
    "b = A[0, 0]\n",
    "print(b)\n",
    "\n",
    "#Extract an entire column of a matrix:\n",
    "print('\\nColumn Extraction')\n",
    "b = A[:, 0]\n",
    "print(b)\n",
    "\n",
    "#Extract an entire row of a matrix:\n",
    "print('\\nRow Extraction')\n",
    "b = A[0, :]\n",
    "print(b)\n",
    "\n",
    "#Transpose of a matrix:\n",
    "print('\\nTranspose')\n",
    "A_Transpose = A.T\n",
    "print(A_Transpose)"
   ]
  },
  {
   "cell_type": "markdown",
   "metadata": {},
   "source": [
    "\n",
    "\n",
    "\n",
    "\n",
    "**EXERCISE 1**\n",
    "---\n",
    "\n",
    "We're now going to compute the inverse of $A$. \n",
    "\n",
    "---\n",
    "**TASK 1.1:** Use Numpy's inverse function (see link below) to compute this inverse.\n",
    "\n",
    "---\n",
    "\n",
    "https://docs.scipy.org/doc/numpy/reference/generated/numpy.linalg.inv.html\n",
    "\n",
    "Read the documentation and use the described function to compute the inverse of $A$, the matrix declared earlier."
   ]
  },
  {
   "cell_type": "code",
   "execution_count": 4,
   "metadata": {},
   "outputs": [
    {
     "name": "stdout",
     "output_type": "stream",
     "text": [
      "[[ 0.5 -1.5]\n",
      " [ 0.   1. ]]\n"
     ]
    }
   ],
   "source": [
    "A = np.array([[2, 3], [0, 1]])\n",
    "A_inv = np.linalg.inv(A)#YOUR CODE HERE\n",
    "\n",
    "print(A_inv)"
   ]
  },
  {
   "cell_type": "markdown",
   "metadata": {},
   "source": [
    "Great! Assuming your above code is correct, you now know how to compute an inverse in Python.\n",
    "\n",
    "Below is a vector $b$, computed using $Ax = b$, with an unknown $x$.\n",
    "\n",
    "---\n",
    "**TASK 1.2:** Use the inverse of $A$ to determine $x$.\n",
    "\n",
    "---"
   ]
  },
  {
   "cell_type": "code",
   "execution_count": 5,
   "metadata": {},
   "outputs": [
    {
     "name": "stdout",
     "output_type": "stream",
     "text": [
      "[[-6.]\n",
      " [ 5.]]\n"
     ]
    }
   ],
   "source": [
    "b = np.array([[3], [5]])\n",
    "\n",
    "x = np.dot(A_inv,b)#YOUR CODE HERE\n",
    "\n",
    "print(x)"
   ]
  },
  {
   "cell_type": "markdown",
   "metadata": {},
   "source": [
    "\n",
    "---\n",
    "**TASK 1.3:** Now verify your answer by finding $x$ using Numpy's solve function.\n",
    "\n",
    "---\n",
    "\n",
    "https://docs.scipy.org/doc/numpy/reference/generated/numpy.linalg.solve.html"
   ]
  },
  {
   "cell_type": "code",
   "execution_count": 6,
   "metadata": {},
   "outputs": [
    {
     "name": "stdout",
     "output_type": "stream",
     "text": [
      "[[-6.]\n",
      " [ 5.]]\n"
     ]
    }
   ],
   "source": [
    "\n",
    "x = np.linalg.solve(A,b)#YOUR CODE HERE\n",
    "\n",
    "print(x)"
   ]
  },
  {
   "cell_type": "markdown",
   "metadata": {},
   "source": [
    " Good work. But what if we're trying to solve for a matrix without an inverse? Numpy's solve function won't work in that case.\n",
    "\n",
    "\n",
    "\n",
    "\n",
    "\n",
    "**EXERCISE 2**\n",
    "---\n",
    "\n",
    "Below I've declared a new version of $b$, and a new version of $A$ with no inverse. \n",
    "\n",
    "---\n",
    "\n",
    "**TASK 2.1:** $Ax = b$, where we know only $A$ and $b$. Solve for $x$.\n",
    "\n",
    "---\n",
    "**NOTE:** You **should not** use the Numpy function for **pseudo** inverse linalg.pinv() for **TASK 2.1**. The point is to verify you understand how to compute the pseudo inverse yourself.\n",
    "\n",
    "Because $A$ has no inverse, we need to compute its pseudo inverse, also known as the Moore-Penrose inverse. This is covered in detail in your textbook, however in case you need a reminder, here's the Wikipedia page. Good rule of thumb to live by; if you're unsure of what something is, check Wikipedia, and check the Numpy documentation. Failing that, check Stack Overflow.\n",
    "\n",
    "https://en.wikipedia.org/wiki/Moore–Penrose_inverse\n",
    "\n"
   ]
  },
  {
   "cell_type": "code",
   "execution_count": 11,
   "metadata": {},
   "outputs": [
    {
     "name": "stdout",
     "output_type": "stream",
     "text": [
      "[[1.]\n",
      " [4.]]\n"
     ]
    }
   ],
   "source": [
    "A = np.array([[1, 3], [2, 7], [5, 1]])\n",
    "b = np.array([[13], [30], [9]])\n",
    "\n",
    "A_pseudo_inverse = np.dot(np.linalg.inv(np.dot(A.T,A)), A.T) #YOUR CODE HERE\n",
    "x = np.dot(A_pseudo_inverse, b)#YOUR CODE HERE\n",
    "\n",
    "print(x)"
   ]
  },
  {
   "cell_type": "markdown",
   "metadata": {},
   "source": [
    "**TASK 2.2:** Now use the Numpy pseudo inverse to find $x$ and verify your answer is correct (you should get the same result as 2.1).\n",
    "\n",
    "https://docs.scipy.org/doc/numpy-1.15.1/reference/generated/numpy.linalg.pinv.html\n"
   ]
  },
  {
   "cell_type": "code",
   "execution_count": 12,
   "metadata": {},
   "outputs": [
    {
     "name": "stdout",
     "output_type": "stream",
     "text": [
      "[[1.]\n",
      " [4.]]\n"
     ]
    }
   ],
   "source": [
    "A_pseudo_inverse = np.linalg.pinv(A)#YOUR CODE HERE\n",
    "x = np.dot(A_pseudo_inverse, b)#YOUR CODE HERE\n",
    "\n",
    "print(x)"
   ]
  },
  {
   "cell_type": "markdown",
   "metadata": {},
   "source": [
    "**EXERCISE 3**\n",
    "---\n",
    "\n",
    "Now we're going to learn to visualise data. We'll start by visualising the 2 column vectors which make up the matrix $A$ above.\n",
    "\n",
    "Every matrix can be thought of as a sequence of column or row vectors. Generally speaking, because of the manner in which matrix multiplication works, people refering to the vectors which make up a matrix are often refering to the rows of the matrix. However changing between the two just requires you transpose the matrix.\n",
    "\n",
    "---\n",
    "**TASK 3.1:** Look up np.random.eye(), and use it generate a 2 by 2 identity matrix $I = \n",
    "\\begin{bmatrix}\n",
    "1&0\\\\\n",
    "0&1\\\\\n",
    "\\end{bmatrix}\n",
    "$.\n",
    "\n",
    "---\n",
    "\n",
    "**TASK 3.2:** Plot arrows representing the 2 column vectors of the identity matrix $I$ in 2d space, such that it looks like the image below. Part of the code has been filled in for you.\n",
    "\n",
    "---\n",
    "\n",
    "![title](https://upload.cc/i1/2019/08/01/LqQUbB.png)\n",
    "\n",
    "\n",
    "**HINTS:** \n",
    "- You'll need to use plt.quiver() with angles='xy', scale_units='xy' and scale=1. \n",
    "    - https://matplotlib.org/3.1.1/api/_as_gen/matplotlib.pyplot.quiver.html\n",
    "- You'll need use '*origin' as the origin of the quiver plot, including the asterix.\n",
    "- You'll need to use plt.xlim and .ylim with limits -2 and 2.\n",
    "    - https://matplotlib.org/api/_as_gen/matplotlib.pyplot.xlim.html\n",
    "    - https://matplotlib.org/api/_as_gen/matplotlib.pyplot.ylim.html\n",
    "- You'll need to follow these statements with plt.show().\n",
    "    - https://matplotlib.org/api/_as_gen/matplotlib.pyplot.show.html"
   ]
  },
  {
   "cell_type": "code",
   "execution_count": 19,
   "metadata": {},
   "outputs": [
    {
     "name": "stdout",
     "output_type": "stream",
     "text": [
      "[[1 0]\n",
      " [0 1]]\n"
     ]
    },
    {
     "data": {
      "image/png": "[encoded data removed]",
      "text/plain": [
       "<Figure size 432x288 with 1 Axes>"
      ]
     },
     "metadata": {
      "needs_background": "light"
     },
     "output_type": "display_data"
    }
   ],
   "source": [
    "import matplotlib.pyplot as plt\n",
    "\n",
    "origin = [0], [0]\n",
    "\n",
    "I = np.eye(2, dtype=int)#YOUR CODE HERE\n",
    "print(I)\n",
    "plt.quiver(*origin, 0, 0, 1, 1,1 )\n",
    "plt.show()"
   ]
  },
  {
   "cell_type": "markdown",
   "metadata": {},
   "source": [
    "---\n",
    "**TASK 3.3:** Generate a 1000 by 2 matrix of 1000 2-dimensional samples with np.random.randn(), and plot these with plt.plot(). \n",
    "\n",
    "---"
   ]
  },
  {
   "cell_type": "code",
   "execution_count": null,
   "metadata": {},
   "outputs": [],
   "source": [
    "#YOUR CODE HERE"
   ]
  },
  {
   "cell_type": "markdown",
   "metadata": {},
   "source": [
    "**EXERCISE 4**\n",
    "---\n",
    "\n",
    "---\n",
    "**TASK 4.1:** Implement a function that reduces any matrix to reduced row echelon form, and apply it to reduce the following matrix $A$ to reduced row echelon form. You must implement the gaussian elimination algorithm yourself, not merely call someone elses library function.\n",
    "\n",
    "---\n",
    "\n",
    "**HINT:** https://en.wikipedia.org/wiki/Gaussian_elimination"
   ]
  },
  {
   "cell_type": "code",
   "execution_count": 22,
   "metadata": {},
   "outputs": [
    {
     "name": "stdout",
     "output_type": "stream",
     "text": [
      "5\n"
     ]
    }
   ],
   "source": [
    "A = np.array([[1, 0, 1, 1],\n",
    "             [1, 0, 1, 1],\n",
    "             [0, 1, 1, 1],\n",
    "             [1, 1, 1, 0],\n",
    "             [1, 1, 1, 0]])\n",
    "\n",
    "def gaussian_elim(A):\n",
    "    for i in rang(len(A)-1):\n",
    "        A[i+1] = A[i+1]-\n",
    "    \n",
    "    #YOUR CODE HERE\n",
    "   # return A\n",
    "\n",
    "#print(gaussian_elim(A))"
   ]
  },
  {
   "cell_type": "markdown",
   "metadata": {},
   "source": [
    "Use the code below to verify your result."
   ]
  },
  {
   "cell_type": "code",
   "execution_count": 23,
   "metadata": {
    "scrolled": true
   },
   "outputs": [
    {
     "name": "stdout",
     "output_type": "stream",
     "text": [
      "[[1 0 0 -1]\n",
      " [0 1 0 -1]\n",
      " [0 0 1 2]\n",
      " [0 0 0 0]\n",
      " [0 0 0 0]]\n"
     ]
    }
   ],
   "source": [
    "import sympy as sp\n",
    "disp_A = np.array(sp.Matrix(A).rref()[0])\n",
    "print(disp_A)"
   ]
  },
  {
   "cell_type": "markdown",
   "metadata": {},
   "source": [
    "---\n",
    "**TASK 4.2:** Implement a function that finds an orthonormal basis of *column* vectors for $A$. As with 4.1, you must implement the algorithm yourself. You may however use your Gaussian Elimination function, if you choose to implement a solution that depends upon Gaussian Elimination. Note that there are multiple solutions, only one of which requires gaussian elimination.\n",
    "\n",
    "A link to the Gram-Schmidt algorithm is given to help you.\n",
    "\n",
    "---\n",
    "\n",
    "**HINT:** https://en.wikipedia.org/wiki/Gram–Schmidt_process"
   ]
  },
  {
   "cell_type": "code",
   "execution_count": null,
   "metadata": {},
   "outputs": [],
   "source": [
    "def gram_schmidt(A):\n",
    "    #YOUR CODE HERE\n",
    "    return A\n",
    "\n",
    "print(gram_schmidt(A))"
   ]
  },
  {
   "cell_type": "markdown",
   "metadata": {},
   "source": [
    "---\n",
    "**TASK 4.3:** Implement a function that accepts a matrix and returns TRUE if all the columns of that matrix are orthogonal to one another, and each one of them is of length 1 (the L2 norm of each column vector is 1).\n",
    "\n",
    "Use this function to verify the output of your gram_schmidt function is an orthonormal basis for $A$.\n",
    "\n",
    "Again, you must program this function yourself, rather than relying on a library function.\n",
    "\n",
    "---\n",
    "\n",
    "**HINT:** \n",
    "- A pair of column vectors $v_1$ and $v_2$ are orthogonal to one another if and only if $v_1^Tv_2 = 0$. They form an orthonormal basis if they are all orthogonal to eachother, and they are each of length 1. https://en.wikipedia.org/wiki/Orthogonality\n",
    "- You can check whether your algorithms work using the last 6 lines in the code given below."
   ]
  },
  {
   "cell_type": "code",
   "execution_count": 24,
   "metadata": {},
   "outputs": [
    {
     "ename": "NameError",
     "evalue": "name 'gram_schmidt' is not defined",
     "output_type": "error",
     "traceback": [
      "\u001b[0;31m---------------------------------------------------------------------------\u001b[0m",
      "\u001b[0;31mNameError\u001b[0m                                 Traceback (most recent call last)",
      "\u001b[0;32m<ipython-input-24-5aa81cc3adc8>\u001b[0m in \u001b[0;36m<module>\u001b[0;34m\u001b[0m\n\u001b[1;32m      4\u001b[0m     \u001b[0;32mreturn\u001b[0m \u001b[0mis_orthogonal\u001b[0m\u001b[0;34m\u001b[0m\u001b[0;34m\u001b[0m\u001b[0m\n\u001b[1;32m      5\u001b[0m \u001b[0;34m\u001b[0m\u001b[0m\n\u001b[0;32m----> 6\u001b[0;31m \u001b[0mprint\u001b[0m\u001b[0;34m(\u001b[0m\u001b[0morthogonality_checker\u001b[0m\u001b[0;34m(\u001b[0m\u001b[0mgram_schmidt\u001b[0m\u001b[0;34m(\u001b[0m\u001b[0mA\u001b[0m\u001b[0;34m)\u001b[0m\u001b[0;34m)\u001b[0m\u001b[0;34m)\u001b[0m\u001b[0;34m\u001b[0m\u001b[0;34m\u001b[0m\u001b[0m\n\u001b[0m\u001b[1;32m      7\u001b[0m \u001b[0;34m\u001b[0m\u001b[0m\n\u001b[1;32m      8\u001b[0m \u001b[0;34m\u001b[0m\u001b[0m\n",
      "\u001b[0;31mNameError\u001b[0m: name 'gram_schmidt' is not defined"
     ]
    }
   ],
   "source": [
    "def orthogonality_checker(A):\n",
    "    is_orthogonal = False\n",
    "    #YOUR CODE HERE\n",
    "    return is_orthogonal\n",
    "\n",
    "print(orthogonality_checker(gram_schmidt(A)))\n",
    "\n",
    "\n",
    "true_test = np.eye(3,3)\n",
    "false_test = np.ones((3,3))\n",
    "print('\\nCHECKING TRUE TEST (SHOULD RETURN TRUE):')\n",
    "print(orthogonality_checker(true_test))\n",
    "print('\\nCHECKING FALSE TEST (SHOULD RETURN FALSE):')\n",
    "print(orthogonality_checker(false_test))"
   ]
  },
  {
   "cell_type": "code",
   "execution_count": null,
   "metadata": {},
   "outputs": [],
   "source": []
  }
 ],
 "metadata": {
  "kernelspec": {
   "display_name": "Python 3",
   "language": "python",
   "name": "python3"
  },
  "language_info": {
   "codemirror_mode": {
    "name": "ipython",
    "version": 3
   },
   "file_extension": ".py",
   "mimetype": "text/x-python",
   "name": "python",
   "nbconvert_exporter": "python",
   "pygments_lexer": "ipython3",
   "version": "3.7.3"
  }
 },
 "nbformat": 4,
 "nbformat_minor": 2
}
